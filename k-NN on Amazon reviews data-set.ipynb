{
 "cells": [
  {
   "cell_type": "code",
   "execution_count": 1,
   "metadata": {
    "collapsed": true
   },
   "outputs": [],
   "source": [
    "import sqlite3\n",
    "import numpy as np\n",
    "import pandas as pd\n",
    "import matplotlib.pyplot as plt\n",
    "import seaborn as sns\n",
    "from time import time"
   ]
  },
  {
   "cell_type": "code",
   "execution_count": 2,
   "metadata": {},
   "outputs": [
    {
     "data": {
      "text/plain": [
       "(364171, 12)"
      ]
     },
     "execution_count": 2,
     "metadata": {},
     "output_type": "execute_result"
    }
   ],
   "source": [
    "con=sqlite3.connect('final_db.sqlite')\n",
    "data=pd.read_sql_query(\"\"\"Select * from Reviews\"\"\",con)\n",
    "data.shape"
   ]
  },
  {
   "cell_type": "code",
   "execution_count": 3,
   "metadata": {},
   "outputs": [
    {
     "data": {
      "text/html": [
       "<div>\n",
       "<style>\n",
       "    .dataframe thead tr:only-child th {\n",
       "        text-align: right;\n",
       "    }\n",
       "\n",
       "    .dataframe thead th {\n",
       "        text-align: left;\n",
       "    }\n",
       "\n",
       "    .dataframe tbody tr th {\n",
       "        vertical-align: top;\n",
       "    }\n",
       "</style>\n",
       "<table border=\"1\" class=\"dataframe\">\n",
       "  <thead>\n",
       "    <tr style=\"text-align: right;\">\n",
       "      <th></th>\n",
       "      <th>index</th>\n",
       "      <th>Id</th>\n",
       "      <th>ProductId</th>\n",
       "      <th>UserId</th>\n",
       "      <th>ProfileName</th>\n",
       "      <th>HelpfulnessNumerator</th>\n",
       "      <th>HelpfulnessDenominator</th>\n",
       "      <th>Score</th>\n",
       "      <th>Time</th>\n",
       "      <th>Summary</th>\n",
       "      <th>Text</th>\n",
       "      <th>CleanedText</th>\n",
       "    </tr>\n",
       "  </thead>\n",
       "  <tbody>\n",
       "    <tr>\n",
       "      <th>0</th>\n",
       "      <td>138706</td>\n",
       "      <td>150524</td>\n",
       "      <td>0006641040</td>\n",
       "      <td>ACITT7DI6IDDL</td>\n",
       "      <td>shari zychinski</td>\n",
       "      <td>0</td>\n",
       "      <td>0</td>\n",
       "      <td>positive</td>\n",
       "      <td>939340800</td>\n",
       "      <td>EVERY book is educational</td>\n",
       "      <td>this witty little book makes my son laugh at l...</td>\n",
       "      <td>witti littl book make son laugh loud recit car...</td>\n",
       "    </tr>\n",
       "    <tr>\n",
       "      <th>1</th>\n",
       "      <td>138688</td>\n",
       "      <td>150506</td>\n",
       "      <td>0006641040</td>\n",
       "      <td>A2IW4PEEKO2R0U</td>\n",
       "      <td>Tracy</td>\n",
       "      <td>1</td>\n",
       "      <td>1</td>\n",
       "      <td>positive</td>\n",
       "      <td>1194739200</td>\n",
       "      <td>Love the book, miss the hard cover version</td>\n",
       "      <td>I grew up reading these Sendak books, and watc...</td>\n",
       "      <td>grew read sendak book watch realli rosi movi i...</td>\n",
       "    </tr>\n",
       "    <tr>\n",
       "      <th>2</th>\n",
       "      <td>138689</td>\n",
       "      <td>150507</td>\n",
       "      <td>0006641040</td>\n",
       "      <td>A1S4A3IQ2MU7V4</td>\n",
       "      <td>sally sue \"sally sue\"</td>\n",
       "      <td>1</td>\n",
       "      <td>1</td>\n",
       "      <td>positive</td>\n",
       "      <td>1191456000</td>\n",
       "      <td>chicken soup with rice months</td>\n",
       "      <td>This is a fun way for children to learn their ...</td>\n",
       "      <td>fun way children learn month year learn poem t...</td>\n",
       "    </tr>\n",
       "  </tbody>\n",
       "</table>\n",
       "</div>"
      ],
      "text/plain": [
       "    index      Id   ProductId          UserId            ProfileName  \\\n",
       "0  138706  150524  0006641040   ACITT7DI6IDDL        shari zychinski   \n",
       "1  138688  150506  0006641040  A2IW4PEEKO2R0U                  Tracy   \n",
       "2  138689  150507  0006641040  A1S4A3IQ2MU7V4  sally sue \"sally sue\"   \n",
       "\n",
       "   HelpfulnessNumerator  HelpfulnessDenominator     Score        Time  \\\n",
       "0                     0                       0  positive   939340800   \n",
       "1                     1                       1  positive  1194739200   \n",
       "2                     1                       1  positive  1191456000   \n",
       "\n",
       "                                      Summary  \\\n",
       "0                   EVERY book is educational   \n",
       "1  Love the book, miss the hard cover version   \n",
       "2               chicken soup with rice months   \n",
       "\n",
       "                                                Text  \\\n",
       "0  this witty little book makes my son laugh at l...   \n",
       "1  I grew up reading these Sendak books, and watc...   \n",
       "2  This is a fun way for children to learn their ...   \n",
       "\n",
       "                                         CleanedText  \n",
       "0  witti littl book make son laugh loud recit car...  \n",
       "1  grew read sendak book watch realli rosi movi i...  \n",
       "2  fun way children learn month year learn poem t...  "
      ]
     },
     "execution_count": 3,
     "metadata": {},
     "output_type": "execute_result"
    }
   ],
   "source": [
    "data.head(3)"
   ]
  },
  {
   "cell_type": "code",
   "execution_count": 4,
   "metadata": {},
   "outputs": [
    {
     "name": "stdout",
     "output_type": "stream",
     "text": [
      "364170    302474\n",
      "Name: index, dtype: int64\n",
      "*******************************************\n",
      "302474\n"
     ]
    }
   ],
   "source": [
    "columns = data.columns.values\n",
    "print(data['index'][364170:])\n",
    "d=np.asarray(data)\n",
    "print('*******************************************')\n",
    "print(d[364170,0])"
   ]
  },
  {
   "cell_type": "code",
   "execution_count": 5,
   "metadata": {},
   "outputs": [
    {
     "name": "stdout",
     "output_type": "stream",
     "text": [
      "29930\n",
      "(29930, 12)\n"
     ]
    }
   ],
   "source": [
    "# Random Sampling of 50000 datapoints from 364171 data points\n",
    "import random\n",
    "n=364171\n",
    "m=30000\n",
    "p = m/n;\n",
    "\n",
    "sampled_data =[];\n",
    "\n",
    "for i in range(0,n):\n",
    "    if random.random() <= p:\n",
    "        sampled_data.append(d[i,:])\n",
    "print(len(sampled_data))\n",
    "sampled_data = np.asarray(sampled_data)\n",
    "print(sampled_data.shape)"
   ]
  },
  {
   "cell_type": "code",
   "execution_count": 6,
   "metadata": {},
   "outputs": [
    {
     "name": "stdout",
     "output_type": "stream",
     "text": [
      "(12,)\n"
     ]
    }
   ],
   "source": [
    "print(columns.shape)"
   ]
  },
  {
   "cell_type": "code",
   "execution_count": 7,
   "metadata": {},
   "outputs": [
    {
     "data": {
      "text/html": [
       "<div>\n",
       "<style>\n",
       "    .dataframe thead tr:only-child th {\n",
       "        text-align: right;\n",
       "    }\n",
       "\n",
       "    .dataframe thead th {\n",
       "        text-align: left;\n",
       "    }\n",
       "\n",
       "    .dataframe tbody tr th {\n",
       "        vertical-align: top;\n",
       "    }\n",
       "</style>\n",
       "<table border=\"1\" class=\"dataframe\">\n",
       "  <thead>\n",
       "    <tr style=\"text-align: right;\">\n",
       "      <th></th>\n",
       "      <th>index</th>\n",
       "      <th>Id</th>\n",
       "      <th>ProductId</th>\n",
       "      <th>UserId</th>\n",
       "      <th>ProfileName</th>\n",
       "      <th>HelpfulnessNumerator</th>\n",
       "      <th>HelpfulnessDenominator</th>\n",
       "      <th>Score</th>\n",
       "      <th>Time</th>\n",
       "      <th>Summary</th>\n",
       "      <th>Text</th>\n",
       "      <th>CleanedText</th>\n",
       "    </tr>\n",
       "  </thead>\n",
       "  <tbody>\n",
       "    <tr>\n",
       "      <th>0</th>\n",
       "      <td>138697</td>\n",
       "      <td>150515</td>\n",
       "      <td>0006641040</td>\n",
       "      <td>A2RTT81R6Y3R7X</td>\n",
       "      <td>Lindylu</td>\n",
       "      <td>0</td>\n",
       "      <td>0</td>\n",
       "      <td>positive</td>\n",
       "      <td>1303171200</td>\n",
       "      <td>One of our family's favorite books</td>\n",
       "      <td>This book is a family favorite and was read to...</td>\n",
       "      <td>book famili favorit read children small order ...</td>\n",
       "    </tr>\n",
       "    <tr>\n",
       "      <th>1</th>\n",
       "      <td>157836</td>\n",
       "      <td>171147</td>\n",
       "      <td>7310172001</td>\n",
       "      <td>A5F2CS558RBDA</td>\n",
       "      <td>Michael W. Riley</td>\n",
       "      <td>0</td>\n",
       "      <td>0</td>\n",
       "      <td>positive</td>\n",
       "      <td>1242259200</td>\n",
       "      <td>Good Product- VERY Slow Super Saver Shipping</td>\n",
       "      <td>My dogs LOVE this product. They beg for them. ...</td>\n",
       "      <td>dog love product beg also came recommend anim ...</td>\n",
       "    </tr>\n",
       "    <tr>\n",
       "      <th>2</th>\n",
       "      <td>157815</td>\n",
       "      <td>171126</td>\n",
       "      <td>7310172001</td>\n",
       "      <td>A3JDAZ5YVHY15U</td>\n",
       "      <td>Shadow and Blue</td>\n",
       "      <td>0</td>\n",
       "      <td>0</td>\n",
       "      <td>positive</td>\n",
       "      <td>1296086400</td>\n",
       "      <td>Great Product, Great deal</td>\n",
       "      <td>My dogs love these treats and I was buying the...</td>\n",
       "      <td>dog love treat buy vet doubl price great deal ...</td>\n",
       "    </tr>\n",
       "  </tbody>\n",
       "</table>\n",
       "</div>"
      ],
      "text/plain": [
       "    index      Id   ProductId          UserId       ProfileName  \\\n",
       "0  138697  150515  0006641040  A2RTT81R6Y3R7X           Lindylu   \n",
       "1  157836  171147  7310172001   A5F2CS558RBDA  Michael W. Riley   \n",
       "2  157815  171126  7310172001  A3JDAZ5YVHY15U   Shadow and Blue   \n",
       "\n",
       "  HelpfulnessNumerator HelpfulnessDenominator     Score        Time  \\\n",
       "0                    0                      0  positive  1303171200   \n",
       "1                    0                      0  positive  1242259200   \n",
       "2                    0                      0  positive  1296086400   \n",
       "\n",
       "                                        Summary  \\\n",
       "0            One of our family's favorite books   \n",
       "1  Good Product- VERY Slow Super Saver Shipping   \n",
       "2                     Great Product, Great deal   \n",
       "\n",
       "                                                Text  \\\n",
       "0  This book is a family favorite and was read to...   \n",
       "1  My dogs LOVE this product. They beg for them. ...   \n",
       "2  My dogs love these treats and I was buying the...   \n",
       "\n",
       "                                         CleanedText  \n",
       "0  book famili favorit read children small order ...  \n",
       "1  dog love product beg also came recommend anim ...  \n",
       "2  dog love treat buy vet doubl price great deal ...  "
      ]
     },
     "execution_count": 7,
     "metadata": {},
     "output_type": "execute_result"
    }
   ],
   "source": [
    "data = pd.DataFrame(data=sampled_data,columns=columns)\n",
    "data.head(3)"
   ]
  },
  {
   "cell_type": "code",
   "execution_count": 8,
   "metadata": {},
   "outputs": [
    {
     "data": {
      "text/html": [
       "<div>\n",
       "<style>\n",
       "    .dataframe thead tr:only-child th {\n",
       "        text-align: right;\n",
       "    }\n",
       "\n",
       "    .dataframe thead th {\n",
       "        text-align: left;\n",
       "    }\n",
       "\n",
       "    .dataframe tbody tr th {\n",
       "        vertical-align: top;\n",
       "    }\n",
       "</style>\n",
       "<table border=\"1\" class=\"dataframe\">\n",
       "  <thead>\n",
       "    <tr style=\"text-align: right;\">\n",
       "      <th></th>\n",
       "      <th>index</th>\n",
       "      <th>Id</th>\n",
       "      <th>ProductId</th>\n",
       "      <th>UserId</th>\n",
       "      <th>ProfileName</th>\n",
       "      <th>HelpfulnessNumerator</th>\n",
       "      <th>HelpfulnessDenominator</th>\n",
       "      <th>Score</th>\n",
       "      <th>Time</th>\n",
       "      <th>Summary</th>\n",
       "      <th>Text</th>\n",
       "      <th>CleanedText</th>\n",
       "    </tr>\n",
       "  </thead>\n",
       "  <tbody>\n",
       "    <tr>\n",
       "      <th>26</th>\n",
       "      <td>346028</td>\n",
       "      <td>374330</td>\n",
       "      <td>B00004CI84</td>\n",
       "      <td>AAI57M3OXP5NK</td>\n",
       "      <td>\"gibraud\"</td>\n",
       "      <td>0</td>\n",
       "      <td>0</td>\n",
       "      <td>positive</td>\n",
       "      <td>1025654400</td>\n",
       "      <td>Love This Movie!</td>\n",
       "      <td>This movie is a very odd movie but I love it b...</td>\n",
       "      <td>movi odd movi love doesnt follow hollywood way...</td>\n",
       "    </tr>\n",
       "    <tr>\n",
       "      <th>86</th>\n",
       "      <td>137932</td>\n",
       "      <td>149700</td>\n",
       "      <td>B00006L2ZT</td>\n",
       "      <td>A19JWUIRF6DXLV</td>\n",
       "      <td>Andrew J Monzon</td>\n",
       "      <td>2</td>\n",
       "      <td>4</td>\n",
       "      <td>positive</td>\n",
       "      <td>1036800000</td>\n",
       "      <td>My favorite American Band!</td>\n",
       "      <td>I have been a huge fan of CVB ever since a fri...</td>\n",
       "      <td>huge fan cvb ever sinc friend mine loan casset...</td>\n",
       "    </tr>\n",
       "    <tr>\n",
       "      <th>27</th>\n",
       "      <td>346027</td>\n",
       "      <td>374329</td>\n",
       "      <td>B00004CI84</td>\n",
       "      <td>A1JZV9MCT6KOX4</td>\n",
       "      <td>C. Eallonardo \"Kali's Copilot\"</td>\n",
       "      <td>0</td>\n",
       "      <td>0</td>\n",
       "      <td>positive</td>\n",
       "      <td>1037923200</td>\n",
       "      <td>Good Tim Burton Flick</td>\n",
       "      <td>I like Tim Burton movies in general.  But this...</td>\n",
       "      <td>like tim burton movi general good one your mov...</td>\n",
       "    </tr>\n",
       "  </tbody>\n",
       "</table>\n",
       "</div>"
      ],
      "text/plain": [
       "     index      Id   ProductId          UserId  \\\n",
       "26  346028  374330  B00004CI84   AAI57M3OXP5NK   \n",
       "86  137932  149700  B00006L2ZT  A19JWUIRF6DXLV   \n",
       "27  346027  374329  B00004CI84  A1JZV9MCT6KOX4   \n",
       "\n",
       "                       ProfileName HelpfulnessNumerator  \\\n",
       "26                       \"gibraud\"                    0   \n",
       "86                 Andrew J Monzon                    2   \n",
       "27  C. Eallonardo \"Kali's Copilot\"                    0   \n",
       "\n",
       "   HelpfulnessDenominator     Score        Time                     Summary  \\\n",
       "26                      0  positive  1025654400            Love This Movie!   \n",
       "86                      4  positive  1036800000  My favorite American Band!   \n",
       "27                      0  positive  1037923200       Good Tim Burton Flick   \n",
       "\n",
       "                                                 Text  \\\n",
       "26  This movie is a very odd movie but I love it b...   \n",
       "86  I have been a huge fan of CVB ever since a fri...   \n",
       "27  I like Tim Burton movies in general.  But this...   \n",
       "\n",
       "                                          CleanedText  \n",
       "26  movi odd movi love doesnt follow hollywood way...  \n",
       "86  huge fan cvb ever sinc friend mine loan casset...  \n",
       "27  like tim burton movi general good one your mov...  "
      ]
     },
     "execution_count": 8,
     "metadata": {},
     "output_type": "execute_result"
    }
   ],
   "source": [
    "#Time based sorting\n",
    "data = data.sort_values('Time',axis=0,ascending=True,inplace=False,kind='quicksort',na_position='last')\n",
    "data.head(3)"
   ]
  },
  {
   "cell_type": "code",
   "execution_count": 9,
   "metadata": {},
   "outputs": [
    {
     "name": "stdout",
     "output_type": "stream",
     "text": [
      "(20951,)\n",
      "(20951,)\n",
      "(8979,)\n",
      "(8979,)\n"
     ]
    }
   ],
   "source": [
    "#Splitting the data to get train and test\n",
    "from sklearn.model_selection import train_test_split\n",
    "X_Train, X_test, Y_Train, Y_test = train_test_split(data['CleanedText'], data['Score'], test_size=0.3, random_state=0)\n",
    "print(X_Train.shape)\n",
    "print(Y_Train.shape)\n",
    "print(X_test.shape)\n",
    "print(Y_test.shape)"
   ]
  },
  {
   "cell_type": "markdown",
   "metadata": {},
   "source": [
    "# Bag of Words"
   ]
  },
  {
   "cell_type": "markdown",
   "metadata": {},
   "source": [
    "#### Uni Grams"
   ]
  },
  {
   "cell_type": "code",
   "execution_count": 10,
   "metadata": {
    "scrolled": true
   },
   "outputs": [
    {
     "name": "stdout",
     "output_type": "stream",
     "text": [
      "(20951, 18605)\n",
      "(8979, 12883)\n",
      "(20951, 50)\n",
      "(8979, 50)\n"
     ]
    }
   ],
   "source": [
    "from sklearn.feature_extraction.text import CountVectorizer\n",
    "from sklearn.decomposition import TruncatedSVD\n",
    "X_Train_Vectors = CountVectorizer().fit_transform(X_Train.values)\n",
    "print(X_Train_Vectors.shape)\n",
    "X_test_Vectors = CountVectorizer().fit_transform(X_test.values)\n",
    "print(X_test_Vectors.shape)\n",
    "tsvd= TruncatedSVD(n_components=50,n_iter=10,random_state=0)\n",
    "X_Train_Vectors = tsvd.fit_transform(X_Train_Vectors)\n",
    "X_test_Vectors = tsvd.fit_transform(X_test_Vectors)\n",
    "print(X_Train_Vectors.shape)\n",
    "print(X_test_Vectors.shape)"
   ]
  },
  {
   "cell_type": "code",
   "execution_count": 11,
   "metadata": {},
   "outputs": [
    {
     "name": "stdout",
     "output_type": "stream",
     "text": [
      "(20951, 50)\n",
      "(20951,)\n",
      "(8979, 50)\n",
      "(8979,)\n"
     ]
    }
   ],
   "source": [
    "print(X_Train_Vectors.shape)\n",
    "print(Y_Train.shape)\n",
    "print(X_test_Vectors.shape)\n",
    "print(Y_test.shape)"
   ]
  },
  {
   "cell_type": "markdown",
   "metadata": {},
   "source": [
    "# K-NN for Uni Grams - kd_tree"
   ]
  },
  {
   "cell_type": "code",
   "execution_count": 26,
   "metadata": {},
   "outputs": [
    {
     "name": "stdout",
     "output_type": "stream",
     "text": [
      "(20951, 18605)\n",
      "(8979, 12883)\n",
      "(20951, 50)\n",
      "(8979, 50)\n"
     ]
    }
   ],
   "source": [
    "from sklearn.feature_extraction.text import CountVectorizer\n",
    "from sklearn.decomposition import TruncatedSVD\n",
    "X_Train_Vectors = CountVectorizer().fit_transform(X_Train.values)\n",
    "print(X_Train_Vectors.shape)\n",
    "X_test_Vectors = CountVectorizer().fit_transform(X_test.values)\n",
    "print(X_test_Vectors.shape)\n",
    "tsvd= TruncatedSVD(n_components=50,n_iter=10,random_state=0)\n",
    "X_Train_Vectors = tsvd.fit_transform(X_Train_Vectors.toarray())\n",
    "X_test_Vectors = tsvd.fit_transform(X_test_Vectors.toarray())\n",
    "print(X_Train_Vectors.shape)\n",
    "print(X_test_Vectors.shape)"
   ]
  },
  {
   "cell_type": "code",
   "execution_count": 27,
   "metadata": {},
   "outputs": [
    {
     "name": "stdout",
     "output_type": "stream",
     "text": [
      "(20951, 50)\n",
      "(20951,)\n",
      "(8979, 50)\n",
      "(8979,)\n"
     ]
    }
   ],
   "source": [
    "print(X_Train_Vectors.shape)\n",
    "print(Y_Train.shape)\n",
    "print(X_test_Vectors.shape)\n",
    "print(Y_test.shape)"
   ]
  },
  {
   "cell_type": "code",
   "execution_count": 34,
   "metadata": {},
   "outputs": [
    {
     "name": "stdout",
     "output_type": "stream",
     "text": [
      "2095\n"
     ]
    }
   ],
   "source": [
    "print(X_Train_Vectors.shape[0]//10)"
   ]
  },
  {
   "cell_type": "code",
   "execution_count": 29,
   "metadata": {},
   "outputs": [
    {
     "name": "stdout",
     "output_type": "stream",
     "text": [
      "[ 5.64945747  0.8437393   1.73967968 -0.69087387  0.20188122 -2.0972067\n",
      "  1.97462896  1.00610092 -1.08617959 -0.02259577  0.07939133 -0.11407877\n",
      "  0.9951742  -0.10122764  0.98954123 -0.78465485 -0.16177382  0.79131467\n",
      "  0.91109779 -0.65557268 -0.74148424 -1.02902377  0.18104235 -1.92154698\n",
      "  1.52863358 -0.65729354 -1.60842528  0.03158986 -0.31530939  0.33171852\n",
      " -0.59554004  0.39883793 -0.69313276  0.73289426 -0.9155187  -0.47576858\n",
      "  0.74570942  1.88720633  0.51002068  0.30339862 -0.46912925  1.00083472\n",
      "  0.98343167  0.36004021 -2.23169421  0.40788273  1.13663348 -1.83895286\n",
      "  0.97824245  0.70964039]\n"
     ]
    }
   ],
   "source": [
    "print(X_Train_Vectors[0])"
   ]
  },
  {
   "cell_type": "code",
   "execution_count": 48,
   "metadata": {},
   "outputs": [
    {
     "name": "stdout",
     "output_type": "stream",
     "text": [
      "2095\n",
      "1\n",
      "{1: (0, 2095), 2: (2095, 4190), 3: (4190, 6285), 4: (6285, 8380), 5: (8380, 10475), 6: (10475, 12570), 7: (12570, 14665), 8: (14665, 16760), 9: (16760, 18855), 10: (18855, 20951)}\n"
     ]
    }
   ],
   "source": [
    "#Construction of 10 fold cv\n",
    "indic={}\n",
    "n=X_Train_Vectors.shape[0]//10\n",
    "print(n)\n",
    "per=X_Train_Vectors.shape[0]%10\n",
    "print(per)\n",
    "indic={i:((i-1)*n,(i*n)) for i in range(1,10)}\n",
    "indic[10]=(9*n,10*n+per)\n",
    "print(indic)"
   ]
  },
  {
   "cell_type": "code",
   "execution_count": 61,
   "metadata": {},
   "outputs": [
    {
     "name": "stdout",
     "output_type": "stream",
     "text": [
      "[[    0  5670  9971]\n",
      " [    1   216 20467]\n",
      " [    2 11323 17155]\n",
      " [    3  9162 14034]\n",
      " [    4 13134 11163]\n",
      " [    5  9487 17555]\n",
      " [    6 20704   674]\n",
      " [    7  7727  9261]\n",
      " [    8  1661  2659]\n",
      " [    9  9173  6523]] [[ 0.          6.4727314   6.50859717]\n",
      " [ 0.          2.11925946  2.36323656]\n",
      " [ 0.          2.49817728  2.53004208]\n",
      " [ 0.          1.28846181  1.43072642]\n",
      " [ 0.          3.63163226  3.99390398]\n",
      " [ 0.          2.14594461  2.30231607]\n",
      " [ 0.          1.5097116   1.56627349]\n",
      " [ 0.          0.96433043  1.24576257]\n",
      " [ 0.          2.26580856  2.29005377]\n",
      " [ 0.          1.97094575  2.00002038]]\n",
      "<sklearn.neighbors.kd_tree.KDTree object at 0x00000188F61F2FA8>\n"
     ]
    }
   ],
   "source": [
    "#checking sample tree\n",
    "from sklearn.neighbors import KDTree\n",
    "\n",
    "tree=KDTree(X_Train_Vectors)\n",
    "dist, ind =tree.query(X_Train_Vectors[0:10],k=3)\n",
    "print(ind,dist)\n",
    "print(tree)"
   ]
  },
  {
   "cell_type": "code",
   "execution_count": null,
   "metadata": {
    "collapsed": true
   },
   "outputs": [],
   "source": [
    "from sklearn.neighbors import KDTree\n",
    "\n",
    "myList = list(range(1,50))\n",
    "neighbors = list(filter(lambda x: x % 2 != 0, myList))\n",
    "\n",
    "cv_scores = []\n",
    "scores=np.array([])\n",
    "X_Train_Vectors1=np.array([])\n",
    "Y_Train1=np.array([])\n",
    "\n",
    "for K in neighbors:\n",
    "    for i in range(1,11):\n",
    "        for a,b in indic.items():\n",
    "            if(a==i):\n",
    "                X_cv_dat=X_Train_Vectors[b[0]:b[1]]\n",
    "                Y_cv_dat=Y_Train[b[0]:b[1]]\n",
    "            else:\n",
    "                if(X_Train_Vectors1.size==0):\n",
    "                    X_Train_Vectors1=X_Train_Vectors[b[0]:b[1]]\n",
    "                    Y_Train1=Y_Train1[b[0]:b[1]]\n",
    "                else:\n",
    "                    X_Train_Vectors1=np.concatenate((X_Train_Vectors1,X_Train_Vectors[b[0]:b[1]]))\n",
    "                    Y_Train1=np.concatenate((Y_Train1,Y_Train[b[0]:b[1]]),axis=1)\n",
    "        #For each fold find the score \n",
    "        tree = KDTree(X_Train_Vectors1)\n",
    "        #Find Nearest neighbours for X_cv_dat\n",
    "        dist, ind = tree.query(X_cv_dat, k=K)\n",
    "        #Get the majority of nearest neighbors for each X_cv_dat and compare it with the class of Y_cv_dat\n",
    "        \n",
    "    \n",
    "    #for each K value find the mean cv_scores and append it to cv_scores\n",
    "        \n",
    "        \n",
    "        \n",
    "        "
   ]
  },
  {
   "cell_type": "code",
   "execution_count": null,
   "metadata": {
    "collapsed": true
   },
   "outputs": [],
   "source": []
  }
 ],
 "metadata": {
  "kernelspec": {
   "display_name": "Python 3",
   "language": "python",
   "name": "python3"
  },
  "language_info": {
   "codemirror_mode": {
    "name": "ipython",
    "version": 3
   },
   "file_extension": ".py",
   "mimetype": "text/x-python",
   "name": "python",
   "nbconvert_exporter": "python",
   "pygments_lexer": "ipython3",
   "version": "3.6.3"
  }
 },
 "nbformat": 4,
 "nbformat_minor": 2
}
